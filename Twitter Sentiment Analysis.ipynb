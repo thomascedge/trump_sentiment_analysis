{
 "cells": [
  {
   "cell_type": "markdown",
   "metadata": {},
   "source": [
    "#### Twitter API\n",
    "\n",
    "In order to scrape tweets to form our \"current\" database, we had to connect with the Twitter API by getting access through our Twitter account to scrape. Once we were granted permission to scrape, we connected to the API using the code in the cell directly below. After connecting to the API, we created a csv file using the query \"trump\" to scrape tweets containing the word or hashtag \"trump\". The file's columns are as follows: Date, Tweet, Name, Screen Name, Retweets, Favorites.\n",
    "\n",
    "We attempted to collect tweets over the entire month of August, yet due to Twitter restrictions, we were only able to collect our tweets from the day we ran the scraping. \n",
    "\n",
    "We also attempted to create a large database, yet we could only scrape one hundred tweets at a time. To remedy this, we created a loop that created 40 files of tweets and combined them using the UNIX command `cat *.csv > currenttweetdatabase.csv`."
   ]
  },
  {
   "cell_type": "code",
   "execution_count": 4,
   "metadata": {},
   "outputs": [],
   "source": [
    "import numpy as np\n",
    "import pandas\n",
    "import re\n",
    "\n",
    "import tweepy\n",
    "from textblob import TextBlob \n",
    "\n",
    "import nltk\n",
    "from nltk.corpus import stopwords\n",
    "from nltk.sentiment.vader import SentimentIntensityAnalyzer as SIA\n",
    "from sklearn.feature_extraction.text import CountVectorizer\n",
    "from sklearn.model_selection import train_test_split\n",
    "from sklearn.naive_bayes import MultinomialNB\n",
    "from statistics import mean, stdev\n",
    "from wordcloud import WordCloud, STOPWORDS\n",
    "\n",
    "import matplotlib.pyplot as plt\n",
    "\n",
    "import math"
   ]
  },
  {
   "cell_type": "code",
   "execution_count": null,
   "metadata": {},
   "outputs": [],
   "source": [
    "# authorizes twitter OAuthHandler\n",
    "def setup():\n",
    "    consumer_key = \"\n",
    "    consumer_secret = \"\n",
    "    access_token = \"\n",
    "    access_token_secret = \"",
    "\n",
    "    auth = tweepy.OAuthHandler(consumer_key, consumer_secret)\n",
    "    auth.set_access_token(access_token, access_token_secret)\n",
    "    \n",
    "    api = tweepy.API(auth, wait_on_rate_limit = True)\n",
    "    return api"
   ]
  },
  {
   "cell_type": "code",
   "execution_count": null,
   "metadata": {},
   "outputs": [],
   "source": [
    "# creates csv file\n",
    "def tweets_csv(number, start_date, end_date):\n",
    "    tweets = setup().search(q = \"trump\", lang = \"en\", since = start_date, until = end_date)\n",
    "    \n",
    "    data = pandas.DataFrame(data = [tweet.created_at for tweet in tweets], columns = ['Date'])\n",
    "    data['Tweet'] = np.array([tweet.text for tweet in tweets])\n",
    "    data['Name'] = np.array([tweet.user.name for tweet in tweets])\n",
    "    data['Screen Name'] = np.array([tweet.user.screen_name for tweet in tweets])\n",
    "    data['Retweets'] = np.array([tweet.retweet_count for tweet in tweets])\n",
    "    data['Favorites'] = np.array([tweet.favorite_count for tweet in tweets])\n",
    "\n",
    "    data.to_csv(\"tweetdatabase{}.csv\".format(number), sep = '\\t', encoding = 'utf-8')\n",
    "\n",
    "#for i in range(40):\n",
    "    #tweets_csv(i, \"2018-09-29\", \"2018-09-30\")\n",
    "    \n",
    "#tweets_csv(i, \"2018-09-29\", \"2018-09-30\")"
   ]
  },
  {
   "cell_type": "markdown",
   "metadata": {},
   "source": [
    "#### Data Preprocessing\n",
    "\n",
    "In order to gain a more accurate reading from our sentiment analysis, we ran some preprocessing on our datasets. We removed the stop words from the tweets using the stop words provided from the NLTK library. Then we made all words lower cased. Finally, we removed all web links, at symbols, hashtags, and traces of the word \"RT\" (retweet)."
   ]
  },
  {
   "cell_type": "code",
   "execution_count": 21,
   "metadata": {},
   "outputs": [],
   "source": [
    "# sets stop words from NLTK\n",
    "stop_words = set(stopwords.words('english'))\n",
    "\n",
    "# preprocesses data as whole\n",
    "def clean(filename, column):\n",
    "    df = pandas.read_csv(filename)\n",
    "    df = df[column]\n",
    "    \n",
    "    # all words to lower case\n",
    "    df = df.apply(lambda x: ' '.join([word.lower() for word in x.split()]))\n",
    "    \n",
    "    # removes stop words\n",
    "    df = df.apply(lambda x: ' '.join([word for word in x.split() if word not in (stop_words)]))\n",
    "    \n",
    "    # removes http, @, #, and rt\n",
    "    df = df.apply(lambda x: ' '.join([word for word in x.split()\n",
    "                                     if 'http' not in word\n",
    "                                     and not word.startswith('@')\n",
    "                                     and not word.startswith('#')\n",
    "                                     and word != 'rt']))\n",
    "    \n",
    "    return df\n",
    "\n",
    "#current_data = clean('tweets/currenttweetdatabase.csv', 'Tweet')\n",
    "#election_day_data = clean('tweets/election_day_tweets.csv', 'text')\n",
    "\n",
    "# preprocesses invidual tweet\n",
    "def clean_tweet(tweet):\n",
    "    # all words to lower case\n",
    "    tweet = tweet.lower()\n",
    "    \n",
    "    # removes stop words\n",
    "    tweet = ' '.join([word for word in tweet.split() if not word in stop_words])\n",
    "    \n",
    "    # removes http, @, #, and rt\n",
    "    tweet = ' '.join([word for word in tweet.split()\n",
    "                              if 'http' not in word\n",
    "                              and not word.startswith('@')\n",
    "                              and not word.startswith('#')\n",
    "                              and word != 'rt'])\n",
    "    \n",
    "    return tweet"
   ]
  },
  {
   "cell_type": "markdown",
   "metadata": {},
   "source": [
    "#### Extracting Feature Vectors\n",
    "\n",
    "The following code extracts the counts for each, individual word and places it in an array. To see the counts for each word, uncomment the for loop within the `vectorize` function."
   ]
  },
  {
   "cell_type": "code",
   "execution_count": 3,
   "metadata": {},
   "outputs": [],
   "source": [
    "# extracts features vectors\n",
    "def vectorize(data):\n",
    "    vectorizer = CountVectorizer()\n",
    "    vectorizer.fit(data)\n",
    "    #for word in sorted(vectorizer.vocabulary_):\n",
    "        #print(\"{}: {}\".format(word, vectorizer.vocabulary_.get(word)))\n",
    "\n",
    "    return vectorizer.fit_transform(data)\n",
    "\n",
    "X_train_counts_current = vectorize(current_data)\n",
    "X_train_counts_election_day = vectorize(election_day_data)"
   ]
  },
  {
   "cell_type": "markdown",
   "metadata": {},
   "source": [
    "#### Sentiment Analysis [TextBlob]"
   ]
  },
  {
   "cell_type": "code",
   "execution_count": 24,
   "metadata": {},
   "outputs": [
    {
     "data": {
      "image/png": "[encoded data removed]",
      "text/plain": [
       "<Figure size 432x288 with 1 Axes>"
      ]
     },
     "metadata": {},
     "output_type": "display_data"
    },
    {
     "data": {
      "image/png": "[encoded data removed]",
      "text/plain": [
       "<Figure size 432x288 with 1 Axes>"
      ]
     },
     "metadata": {},
     "output_type": "display_data"
    }
   ],
   "source": [
    "# sentiment analysis using TextBlob\n",
    "\n",
    "def analize_sentiment(tweet):\n",
    "    analysis = TextBlob(clean_tweet(tweet))\n",
    "    if analysis.sentiment.polarity > 0:\n",
    "        return 1\n",
    "    elif analysis.sentiment.polarity == 0:\n",
    "        return 0\n",
    "    else: return -1\n",
    "    \n",
    "def sentiment_analysis_textblob(filename, column, title):\n",
    "    df = pandas.read_csv(filename)\n",
    "\n",
    "    df['SA'] = np.array([analize_sentiment(tweet) for tweet in df[column]])\n",
    "\n",
    "    pos_tweets = [tweet for index, tweet in enumerate(df[column]) if df['SA'][index] > 0]\n",
    "    neu_tweets = [tweet for index, tweet in enumerate(df[column]) if df['SA'][index] == 0]\n",
    "    neg_tweets = [tweet for index, tweet in enumerate(df[column]) if df['SA'][index] < 0]\n",
    "    \n",
    "    labels = ['Positive', 'Neutral', 'Negative']\n",
    "    sizes = [len(pos_tweets) * 100 / len(df[column]),\n",
    "             len(neu_tweets) * 100 / len(df[column]),\n",
    "             len(neg_tweets) * 100 / len(df[column])]\n",
    "    color = ['whitesmoke', 'silver' , 'dimgray']\n",
    "    \n",
    "    plt.pie(sizes, labels=labels, colors=color, autopct='%1.1f%%')\n",
    "    plt.axis('equal')\n",
    "    plt.title(title)\n",
    "    plt.show()\n",
    "    \n",
    "    #print(\"Percentage of positive tweets: {}%\".format(len(pos_tweets) * 100 / len(df[column])))\n",
    "    #print(\"Percentage of neutral tweets: {}%\".format(len(neu_tweets) * 100 / len(df[column])))\n",
    "    #print(\"Percentage of negative tweets: {}%\\n\".format(len(neg_tweets) * 100 / len(df[column])))\n",
    "\n",
    "    dict = {\"pos\": len(pos_tweets)/len(df[column]), \n",
    "            \"neu\": len(neu_tweets)/len(df[column]), \n",
    "            \"neg\": len(neg_tweets)/len(df[column]),\n",
    "            \"mean\": mean([len(pos_tweets)/len(df[column]), len(neu_tweets)/len(df[column]), len(neg_tweets)/len(df[column])]),\n",
    "            \"standard deviation\": stdev([len(pos_tweets)/len(df[column]), len(neu_tweets)/len(df[column]), len(neg_tweets)/len(df[column])]),\n",
    "            \"size\": len(df)}\n",
    "    \n",
    "    return dict\n",
    "\n",
    "current = sentiment_analysis_textblob('tweets/currenttweetdatabase.csv', 'Tweet', 'Current Database Sentiment Results')\n",
    "election_day = sentiment_analysis_textblob('tweets/election_day_tweets.csv', 'text', 'Election Day Database Sentiment Results')"
   ]
  },
  {
   "cell_type": "markdown",
   "metadata": {},
   "source": [
    "#### Statistics\n",
    "\n",
    "Below shows the mean, standard deviation, and t-test statistics for both sentiment analysis runs.\n",
    "\n",
    "In terms of the t-test, since their t statistic is zero and the sig level is below 0.05, there was not much of a significant difference in sentiment between the two analysis runs."
   ]
  },
  {
   "cell_type": "code",
   "execution_count": 23,
   "metadata": {},
   "outputs": [
    {
     "name": "stdout",
     "output_type": "stream",
     "text": [
      "Current\n",
      "\tmean: 0.3333333333333333\n",
      "\tneg: 0.17109634551495018\n",
      "\tneu: 0.5099667774086378\n",
      "\tpos: 0.31893687707641194\n",
      "\tsize: 6020\n",
      "\tstandard deviation: 0.16989330730644361\n",
      "Election Day\n",
      "\tmean: 0.33333333333333337\n",
      "\tneg: 0.12962334236184986\n",
      "\tneu: 0.5577208905789065\n",
      "\tpos: 0.3126557670592437\n",
      "\tsize: 397629\n",
      "\tstandard deviation: 0.21479652931932655\n"
     ]
    }
   ],
   "source": [
    "# prints out statistics\n",
    "print('Current')\n",
    "for word in sorted(current):\n",
    "    print(\"\\t{}: {}\".format(word, current.get(word)))\n",
    "    \n",
    "print('Election Day')\n",
    "for word in sorted(election_day):\n",
    "    print(\"\\t{}: {}\".format(word, election_day.get(word)))"
   ]
  },
  {
   "cell_type": "code",
   "execution_count": 5,
   "metadata": {},
   "outputs": [
    {
     "name": "stdout",
     "output_type": "stream",
     "text": [
      "T-test Statistics for Overall Mean: 2.5050117281212668e-14\n"
     ]
    }
   ],
   "source": [
    "# calculates t-test\n",
    "difference = 0.33333333333333337 - 0.3333333333333333\n",
    "sqrt_devs = math.sqrt(((0.21479652931932655 ** 2)/397629) + ((0.16989330730644361 ** 2)/6020))\n",
    "t_stat = difference/sqrt_devs\n",
    "\n",
    "print(\"{}: {}\".format(\"T-test Statistics for Overall Mean\", t_stat))"
   ]
  },
  {
   "cell_type": "markdown",
   "metadata": {},
   "source": [
    "#### Streaming\n",
    "\n",
    "As an aside, we created a Twitter Stream which pulls Tweets in real time using the query \"trump\"."
   ]
  },
  {
   "cell_type": "code",
   "execution_count": null,
   "metadata": {},
   "outputs": [],
   "source": [
    "# twitter stream\n",
    "class MyStreamListener(tweepy.StreamListener):\n",
    "    def on_status(self, status):\n",
    "        display(status.text)\n",
    "        \n",
    "myStreamListener = MyStreamListener()\n",
    "myStream = tweepy.Stream(auth = setup().auth, listener = MyStreamListener())\n",
    "myStream.filter(track=['trump'])"
   ]
  },
  {
   "cell_type": "markdown",
   "metadata": {},
   "source": [
    "#### Sources\n",
    "\n",
    "[Mining Twitter Data with Python (Part 6 – Sentiment Analysis Basics)](https://marcobonzanini.com/2015/05/17/mining-twitter-data-with-python-part-6-sentiment-analysis-basics/)<br>\n",
    "[Sentiment Analysis with Python (Part 1)](https://towardsdatascience.com/sentiment-analysis-with-python-part-1-5ce197074184)<br>\n",
    "[Sentiment analysis on Trump's tweets using Python 🐍](https://dev.to/rodolfoferro/sentiment-analysis-on-trumpss-tweets-using-python-)<br>\n",
    "[T-Test in Python](https://plot.ly/python/t-test/)<br>\n",
    "[Python NLTK sentiment analysis](https://www.kaggle.com/ngyptr/python-nltk-sentiment-analysis/notebook)<br>\n",
    "[Basic Data Cleaning/Engineering Session | Twitter Sentiment Data](https://medium.com/@SeoJaeDuk/basic-data-cleaning-engineering-session-twitter-sentiment-data-b9376a91109b)\n",
    "\n",
    "##### Data Sets\n",
    "[Election Day Tweets](https://www.kaggle.com/kinguistics/election-day-tweets)<br>\n",
    "[September 2018 Donald Trump-Related Tweets](https://www.kaggle.com/thomascedge/september-2018-trump-tweets)"
   ]
  }
 ],
 "metadata": {
  "kernelspec": {
   "display_name": "Python 3",
   "language": "python",
   "name": "python3"
  },
  "language_info": {
   "codemirror_mode": {
    "name": "ipython",
    "version": 3
   },
   "file_extension": ".py",
   "mimetype": "text/x-python",
   "name": "python",
   "nbconvert_exporter": "python",
   "pygments_lexer": "ipython3",
   "version": "3.6.5"
  }
 },
 "nbformat": 4,
 "nbformat_minor": 2
}
